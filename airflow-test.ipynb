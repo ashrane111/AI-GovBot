{
 "cells": [
  {
   "metadata": {
    "ExecuteTime": {
     "end_time": "2025-02-08T20:37:27.595159Z",
     "start_time": "2025-02-08T20:37:27.586212Z"
    }
   },
   "cell_type": "code",
   "source": [
    "from datetime import datetime\n",
    "from airflow import DAG\n",
    "from airflow.operators.python_operator import PythonOperator\n",
    "from dotenv import load_dotenv\n",
    "from dags.gcs_utils import upload_blob"
   ],
   "id": "a9f8b8436997799a",
   "outputs": [
    {
     "data": {
      "text/plain": [
       "\u001B[1;33m/var/folders/7y/brq11vt51fzf_ql_3k70tltc0000gn/T/ipykernel_13223/\u001B[0m\u001B[1;33m2916713986.py\u001B[0m\u001B[1;33m:\u001B[0m\u001B[1;33m3\u001B[0m\u001B[1;33m DeprecationWarning\u001B[0m\u001B[33m: The `airflow.operators.python_operator.PythonOperator` class is deprecated. Please use `\u001B[0m\u001B[33m'airflow.operators.python.PythonOperator'\u001B[0m\u001B[33m`.\u001B[0m\n"
      ],
      "text/html": [
       "<pre style=\"white-space:pre;overflow-x:auto;line-height:normal;font-family:Menlo,'DejaVu Sans Mono',consolas,'Courier New',monospace\"><span style=\"color: #808000; text-decoration-color: #808000; font-weight: bold\">/var/folders/7y/brq11vt51fzf_ql_3k70tltc0000gn/T/ipykernel_13223/2916713986.py:</span><span style=\"color: #808000; text-decoration-color: #808000; font-weight: bold\">3</span><span style=\"color: #808000; text-decoration-color: #808000; font-weight: bold\"> DeprecationWarning</span><span style=\"color: #808000; text-decoration-color: #808000\">: The `airflow.operators.python_operator.PythonOperator` class is deprecated. Please use `</span><span style=\"color: #808000; text-decoration-color: #808000\">'airflow.operators.python.PythonOperator'</span><span style=\"color: #808000; text-decoration-color: #808000\">`.</span>\n",
       "</pre>\n"
      ]
     },
     "metadata": {},
     "output_type": "display_data"
    }
   ],
   "execution_count": 9
  },
  {
   "cell_type": "code",
   "id": "initial_id",
   "metadata": {
    "collapsed": true,
    "ExecuteTime": {
     "end_time": "2025-02-08T20:37:29.117648Z",
     "start_time": "2025-02-08T20:37:29.110786Z"
    }
   },
   "source": [
    "# Load environment variables from .env\n",
    "load_dotenv()"
   ],
   "outputs": [
    {
     "data": {
      "text/plain": [
       "True"
      ]
     },
     "execution_count": 10,
     "metadata": {},
     "output_type": "execute_result"
    }
   ],
   "execution_count": 10
  },
  {
   "metadata": {
    "ExecuteTime": {
     "end_time": "2025-02-08T20:37:29.516893Z",
     "start_time": "2025-02-08T20:37:29.512588Z"
    }
   },
   "cell_type": "code",
   "source": [
    "# Load environment variables from .env\n",
    "load_dotenv()\n",
    "\n",
    "# Set your variables\n",
    "BUCKET_NAME = 'datasets-mlops-25'\n",
    "SOURCE_FILE = 'agora_dataset/agora/documents.csv'\n",
    "DESTINATION_BLOB = 'datasets/dataset.csv'\n"
   ],
   "id": "f7e213f3001904f0",
   "outputs": [],
   "execution_count": 11
  },
  {
   "metadata": {
    "ExecuteTime": {
     "end_time": "2025-02-08T20:37:30.189408Z",
     "start_time": "2025-02-08T20:37:30.179297Z"
    }
   },
   "cell_type": "code",
   "source": [
    "\n",
    "\n",
    "\n",
    "def upload_dataset():\n",
    "    upload_blob(BUCKET_NAME, SOURCE_FILE, DESTINATION_BLOB)\n",
    "    print(f\"File '{SOURCE_FILE}' uploaded to '{DESTINATION_BLOB}' in bucket '{BUCKET_NAME}'.\")\n",
    "\n",
    "default_args = {\n",
    "    'start_date': datetime(2023, 1, 1)\n",
    "}\n",
    "\n",
    "with DAG(\n",
    "    dag_id='upload_dataset_to_gcs',\n",
    "    default_args=default_args,\n",
    "    schedule_interval='@daily',\n",
    "    catchup=False\n",
    ") as dag:\n",
    "\n",
    "    upload_task = PythonOperator(\n",
    "        task_id='upload_dataset',\n",
    "        python_callable=upload_dataset\n",
    "    )\n"
   ],
   "id": "6900a12abddbbe10",
   "outputs": [
    {
     "data": {
      "text/plain": [
       "\u001B[1;33m/var/folders/7y/brq11vt51fzf_ql_3k70tltc0000gn/T/ipykernel_13223/\u001B[0m\u001B[1;33m3481004426.py\u001B[0m\u001B[1;33m:\u001B[0m\u001B[1;33m9\u001B[0m\u001B[1;33m RemovedInAirflow3Warning\u001B[0m\u001B[33m: Param `schedule_interval` is deprecated and will be removed in a future release. Please use `schedule` instead.\u001B[0m\n"
      ],
      "text/html": [
       "<pre style=\"white-space:pre;overflow-x:auto;line-height:normal;font-family:Menlo,'DejaVu Sans Mono',consolas,'Courier New',monospace\"><span style=\"color: #808000; text-decoration-color: #808000; font-weight: bold\">/var/folders/7y/brq11vt51fzf_ql_3k70tltc0000gn/T/ipykernel_13223/3481004426.py:</span><span style=\"color: #808000; text-decoration-color: #808000; font-weight: bold\">9</span><span style=\"color: #808000; text-decoration-color: #808000; font-weight: bold\"> RemovedInAirflow3Warning</span><span style=\"color: #808000; text-decoration-color: #808000\">: Param `schedule_interval` is deprecated and will be removed in a future release. Please use `schedule` instead.</span>\n",
       "</pre>\n"
      ]
     },
     "metadata": {},
     "output_type": "display_data"
    }
   ],
   "execution_count": 12
  },
  {
   "metadata": {},
   "cell_type": "code",
   "outputs": [],
   "execution_count": null,
   "source": "",
   "id": "a78d7e006a963d2c"
  }
 ],
 "metadata": {
  "kernelspec": {
   "display_name": "Python 3",
   "language": "python",
   "name": "python3"
  },
  "language_info": {
   "codemirror_mode": {
    "name": "ipython",
    "version": 2
   },
   "file_extension": ".py",
   "mimetype": "text/x-python",
   "name": "python",
   "nbconvert_exporter": "python",
   "pygments_lexer": "ipython2",
   "version": "2.7.6"
  }
 },
 "nbformat": 4,
 "nbformat_minor": 5
}
